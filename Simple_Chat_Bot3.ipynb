{
  "nbformat": 4,
  "nbformat_minor": 0,
  "metadata": {
    "colab": {
      "provenance": [],
      "authorship_tag": "ABX9TyPovYlh+k0tf4UWIwtCvSl0",
      "include_colab_link": true
    },
    "kernelspec": {
      "name": "python3",
      "display_name": "Python 3"
    },
    "language_info": {
      "name": "python"
    }
  },
  "cells": [
    {
      "cell_type": "markdown",
      "metadata": {
        "id": "view-in-github",
        "colab_type": "text"
      },
      "source": [
        "<a href=\"https://colab.research.google.com/github/elangbijak4/Sistem-Cerdas/blob/main/Simple_Chat_Bot3.ipynb\" target=\"_parent\"><img src=\"https://colab.research.google.com/assets/colab-badge.svg\" alt=\"Open In Colab\"/></a>"
      ]
    },
    {
      "cell_type": "code",
      "execution_count": 1,
      "metadata": {
        "colab": {
          "base_uri": "https://localhost:8080/",
          "height": 815
        },
        "id": "05B9J7W0m8l8",
        "outputId": "8edbc972-92c9-47ec-ea80-31c2a56bcda8"
      },
      "outputs": [
        {
          "output_type": "stream",
          "name": "stdout",
          "text": [
            "\u001b[2K   \u001b[90m━━━━━━━━━━━━━━━━━━━━━━━━━━━━━━━━━━━━━━━━\u001b[0m \u001b[32m57.2/57.2 MB\u001b[0m \u001b[31m19.4 MB/s\u001b[0m eta \u001b[36m0:00:00\u001b[0m\n",
            "\u001b[2K   \u001b[90m━━━━━━━━━━━━━━━━━━━━━━━━━━━━━━━━━━━━━━━━\u001b[0m \u001b[32m320.2/320.2 kB\u001b[0m \u001b[31m17.7 MB/s\u001b[0m eta \u001b[36m0:00:00\u001b[0m\n",
            "\u001b[2K   \u001b[90m━━━━━━━━━━━━━━━━━━━━━━━━━━━━━━━━━━━━━━━━\u001b[0m \u001b[32m94.8/94.8 kB\u001b[0m \u001b[31m6.2 MB/s\u001b[0m eta \u001b[36m0:00:00\u001b[0m\n",
            "\u001b[2K   \u001b[90m━━━━━━━━━━━━━━━━━━━━━━━━━━━━━━━━━━━━━━━━\u001b[0m \u001b[32m11.2/11.2 MB\u001b[0m \u001b[31m61.1 MB/s\u001b[0m eta \u001b[36m0:00:00\u001b[0m\n",
            "\u001b[2K   \u001b[90m━━━━━━━━━━━━━━━━━━━━━━━━━━━━━━━━━━━━━━━━\u001b[0m \u001b[32m73.2/73.2 kB\u001b[0m \u001b[31m5.3 MB/s\u001b[0m eta \u001b[36m0:00:00\u001b[0m\n",
            "\u001b[2K   \u001b[90m━━━━━━━━━━━━━━━━━━━━━━━━━━━━━━━━━━━━━━━━\u001b[0m \u001b[32m63.8/63.8 kB\u001b[0m \u001b[31m4.4 MB/s\u001b[0m eta \u001b[36m0:00:00\u001b[0m\n",
            "\u001b[2K   \u001b[90m━━━━━━━━━━━━━━━━━━━━━━━━━━━━━━━━━━━━━━━━\u001b[0m \u001b[32m168.2/168.2 kB\u001b[0m \u001b[31m10.8 MB/s\u001b[0m eta \u001b[36m0:00:00\u001b[0m\n",
            "\u001b[?25h"
          ]
        },
        {
          "output_type": "stream",
          "name": "stderr",
          "text": [
            "/usr/local/lib/python3.10/dist-packages/gradio/components/chatbot.py:237: UserWarning: You have not specified a value for the `type` parameter. Defaulting to the 'tuples' format for chatbot messages, but this is deprecated and will be removed in a future version of Gradio. Please set type='messages' instead, which uses openai-style dictionaries with 'role' and 'content' keys.\n",
            "  warnings.warn(\n"
          ]
        },
        {
          "output_type": "stream",
          "name": "stdout",
          "text": [
            "Running Gradio in a Colab notebook requires sharing enabled. Automatically setting `share=True` (you can turn this off by setting `share=False` in `launch()` explicitly).\n",
            "\n",
            "Colab notebook detected. To show errors in colab notebook, set debug=True in launch()\n",
            "* Running on public URL: https://135309ed0f769dac85.gradio.live\n",
            "\n",
            "This share link expires in 72 hours. For free permanent hosting and GPU upgrades, run `gradio deploy` from the terminal in the working directory to deploy to Hugging Face Spaces (https://huggingface.co/spaces)\n"
          ]
        },
        {
          "output_type": "display_data",
          "data": {
            "text/plain": [
              "<IPython.core.display.HTML object>"
            ],
            "text/html": [
              "<div><iframe src=\"https://135309ed0f769dac85.gradio.live\" width=\"100%\" height=\"500\" allow=\"autoplay; camera; microphone; clipboard-read; clipboard-write;\" frameborder=\"0\" allowfullscreen></iframe></div>"
            ]
          },
          "metadata": {}
        },
        {
          "output_type": "execute_result",
          "data": {
            "text/plain": []
          },
          "metadata": {},
          "execution_count": 1
        }
      ],
      "source": [
        "# Install library Gradio jika belum terinstal\n",
        "!pip install gradio --quiet\n",
        "\n",
        "# Import library yang dibutuhkan\n",
        "import gradio as gr\n",
        "\n",
        "# Fungsi algoritma chatbot untuk membalas pesan\n",
        "def chatbot_response(user_input, chat_history):\n",
        "    # Tambahkan input pengguna ke sejarah percakapan\n",
        "    chat_history.append((\"User\", user_input))\n",
        "    # Jawaban dari chatbot (ini adalah algoritma sederhana)\n",
        "    response = \"Halo! Anda mengatakan: \" + user_input\n",
        "    chat_history.append((\"Bot\", response))\n",
        "    return chat_history, chat_history\n",
        "\n",
        "# UI Gradio\n",
        "with gr.Blocks() as chatbot_demo:\n",
        "    # Area tampilan percakapan\n",
        "    chat_display = gr.Chatbot(label=\"Percakapan\")\n",
        "    chat_history = gr.State([])  # Untuk menyimpan sejarah percakapan\n",
        "\n",
        "    # Input pengguna\n",
        "    with gr.Row():\n",
        "        user_input = gr.Textbox(\n",
        "            placeholder=\"Ketik komentar Anda di sini...\",\n",
        "            label=\"Komentar\",\n",
        "            show_label=False,\n",
        "        )\n",
        "        send_button = gr.Button(value=\"💬\", elem_classes=\"send-btn\")\n",
        "\n",
        "    # Ketika tombol 'send' ditekan\n",
        "    send_button.click(\n",
        "        fn=chatbot_response,\n",
        "        inputs=[user_input, chat_history],\n",
        "        outputs=[chat_display, chat_history],\n",
        "    )\n",
        "\n",
        "    # Kolom teks otomatis submit ketika Enter ditekan\n",
        "    user_input.submit(\n",
        "        fn=chatbot_response,\n",
        "        inputs=[user_input, chat_history],\n",
        "        outputs=[chat_display, chat_history],\n",
        "    )\n",
        "\n",
        "# Jalankan aplikasi\n",
        "chatbot_demo.launch()\n"
      ]
    }
  ]
}