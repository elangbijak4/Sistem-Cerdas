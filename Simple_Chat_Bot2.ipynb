{
  "nbformat": 4,
  "nbformat_minor": 0,
  "metadata": {
    "colab": {
      "provenance": [],
      "authorship_tag": "ABX9TyOSZL23wdWOjwyNFxNPaQkS",
      "include_colab_link": true
    },
    "kernelspec": {
      "name": "python3",
      "display_name": "Python 3"
    },
    "language_info": {
      "name": "python"
    }
  },
  "cells": [
    {
      "cell_type": "markdown",
      "metadata": {
        "id": "view-in-github",
        "colab_type": "text"
      },
      "source": [
        "<a href=\"https://colab.research.google.com/github/elangbijak4/Sistem-Cerdas/blob/main/Simple_Chat_Bot2.ipynb\" target=\"_parent\"><img src=\"https://colab.research.google.com/assets/colab-badge.svg\" alt=\"Open In Colab\"/></a>"
      ]
    },
    {
      "cell_type": "code",
      "source": [
        "# Import library yang dibutuhkan\n",
        "import tkinter as tk\n",
        "from google.colab.output import eval_js"
      ],
      "metadata": {
        "id": "UgTp5YJOVDC2"
      },
      "execution_count": 1,
      "outputs": []
    },
    {
      "cell_type": "code",
      "source": [
        "# Import library yang dibutuhkan\n",
        "#import tkinter as tk # No need for tkinter if not displaying a GUI\n",
        "from IPython.display import display, HTML # Import display and HTML modules\n",
        "\n",
        "# %%\n",
        "def run_chatbot():\n",
        "    # Fungsi untuk menghasilkan balasan chatbot\n",
        "    def chatbot_response(message):\n",
        "        responses = {\n",
        "            \"halo\": \"Halo! Ada yang bisa saya bantu?\",\n",
        "            \"apa kabar\": \"Saya adalah bot, saya selalu baik!\",\n",
        "            \"siapa kamu\": \"Saya adalah chatbot sederhana yang dibuat dengan Python.\",\n",
        "        }\n",
        "        return responses.get(message.lower(), \"Maaf, saya tidak mengerti pertanyaan Anda.\")\n",
        "\n",
        "    # Fungsi untuk mengirim pesan\n",
        "    def send_message(user_message):  # Modified to accept user_message as input\n",
        "        if user_message.strip() != \"\":\n",
        "            # Tampilkan pesan user di chat\n",
        "            display(HTML(f\"<b>Kamu:</b> {user_message}\")) # Use HTML for bolding\n",
        "            # Tampilkan balasan chatbot\n",
        "            response = chatbot_response(user_message)\n",
        "            display(HTML(f\"<b>Bot:</b> {response}\"))  # Use HTML for bolding\n",
        "\n",
        "    # Get user input using input()\n",
        "    while True:\n",
        "        user_message = input(\"Kamu: \")\n",
        "        send_message(user_message)\n",
        "        if user_message.lower() == 'exit':\n",
        "            break\n",
        "\n",
        "\n",
        "# %%\n",
        "# Run the chatbot (no need for eval_js or http server)\n",
        "run_chatbot()"
      ],
      "metadata": {
        "colab": {
          "base_uri": "https://localhost:8080/",
          "height": 89
        },
        "id": "ppQUDQUHVlCH",
        "outputId": "ef897b4b-c931-4636-a8f4-a973a9500946"
      },
      "execution_count": null,
      "outputs": [
        {
          "name": "stdout",
          "output_type": "stream",
          "text": [
            "Kamu: halo\n"
          ]
        },
        {
          "output_type": "display_data",
          "data": {
            "text/plain": [
              "<IPython.core.display.HTML object>"
            ],
            "text/html": [
              "<b>Kamu:</b> halo"
            ]
          },
          "metadata": {}
        },
        {
          "output_type": "display_data",
          "data": {
            "text/plain": [
              "<IPython.core.display.HTML object>"
            ],
            "text/html": [
              "<b>Bot:</b> Halo! Ada yang bisa saya bantu?"
            ]
          },
          "metadata": {}
        }
      ]
    }
  ]
}