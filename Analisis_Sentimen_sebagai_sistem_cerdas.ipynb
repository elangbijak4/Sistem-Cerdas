{
  "nbformat": 4,
  "nbformat_minor": 0,
  "metadata": {
    "colab": {
      "provenance": [],
      "authorship_tag": "ABX9TyPED6fpfTCY44+7tV/axuRa",
      "include_colab_link": true
    },
    "kernelspec": {
      "name": "python3",
      "display_name": "Python 3"
    },
    "language_info": {
      "name": "python"
    }
  },
  "cells": [
    {
      "cell_type": "markdown",
      "metadata": {
        "id": "view-in-github",
        "colab_type": "text"
      },
      "source": [
        "<a href=\"https://colab.research.google.com/github/elangbijak4/Sistem-Cerdas/blob/main/Analisis_Sentimen_sebagai_sistem_cerdas.ipynb\" target=\"_parent\"><img src=\"https://colab.research.google.com/assets/colab-badge.svg\" alt=\"Open In Colab\"/></a>"
      ]
    },
    {
      "cell_type": "code",
      "execution_count": 1,
      "metadata": {
        "colab": {
          "base_uri": "https://localhost:8080/"
        },
        "id": "PG8r3MqPnsQs",
        "outputId": "98396243-5ecb-4b06-bb0e-2818cfdd87a8"
      },
      "outputs": [
        {
          "output_type": "stream",
          "name": "stdout",
          "text": [
            "Data setelah encoding:\n",
            "      Game  Genre  Platform  Rating  Recommendation\n",
            "0   Game1      0         1       0               1\n",
            "1   Game2      1         1       2               0\n",
            "2   Game3      0         0       0               1\n",
            "3   Game4      2         0       0               1\n",
            "4   Game5      1         1       2               0\n",
            "5   Game6      2         1       1               0\n",
            "6   Game7      3         1       0               1\n",
            "7   Game8      0         0       1               0\n",
            "8   Game9      2         1       2               0\n",
            "9  Game10      3         0       0               1\n",
            "Model Accuracy: 66.67%\n",
            "Hasil rekomendasi:\n",
            "Game ini direkomendasikan!\n"
          ]
        },
        {
          "output_type": "stream",
          "name": "stderr",
          "text": [
            "/usr/local/lib/python3.10/dist-packages/sklearn/base.py:493: UserWarning: X does not have valid feature names, but MultinomialNB was fitted with feature names\n",
            "  warnings.warn(\n"
          ]
        }
      ],
      "source": [
        "# Import library yang diperlukan\n",
        "import pandas as pd\n",
        "from sklearn.model_selection import train_test_split\n",
        "from sklearn.naive_bayes import MultinomialNB\n",
        "from sklearn.preprocessing import LabelEncoder\n",
        "from sklearn.metrics import accuracy_score\n",
        "\n",
        "# Step 1: Buat dataset contoh sederhana\n",
        "data = {\n",
        "    'Game': ['Game1', 'Game2', 'Game3', 'Game4', 'Game5', 'Game6', 'Game7', 'Game8', 'Game9', 'Game10'],\n",
        "    'Genre': ['Action', 'Adventure', 'Action', 'RPG', 'Adventure', 'RPG', 'Strategy', 'Action', 'RPG', 'Strategy'],\n",
        "    'Platform': ['PC', 'PC', 'Console', 'Console', 'PC', 'PC', 'PC', 'Console', 'PC', 'Console'],\n",
        "    'Rating': ['High', 'Medium', 'High', 'High', 'Medium', 'Low', 'High', 'Low', 'Medium', 'High'],\n",
        "    'Recommendation': ['Yes', 'No', 'Yes', 'Yes', 'No', 'No', 'Yes', 'No', 'No', 'Yes']\n",
        "}\n",
        "\n",
        "# Mengubah data menjadi DataFrame\n",
        "df = pd.DataFrame(data)\n",
        "\n",
        "# Step 2: Encode fitur kategorikal\n",
        "label_encoders = {}\n",
        "for column in ['Genre', 'Platform', 'Rating', 'Recommendation']:\n",
        "    le = LabelEncoder()\n",
        "    df[column] = le.fit_transform(df[column])\n",
        "    label_encoders[column] = le\n",
        "\n",
        "# Tampilkan data setelah encoding\n",
        "print(\"Data setelah encoding:\\n\", df)\n",
        "\n",
        "# Step 3: Pisahkan fitur dan target\n",
        "X = df[['Genre', 'Platform', 'Rating']]\n",
        "y = df['Recommendation']\n",
        "\n",
        "# Bagi data menjadi data latih dan data uji\n",
        "X_train, X_test, y_train, y_test = train_test_split(X, y, test_size=0.3, random_state=42)\n",
        "\n",
        "# Step 4: Inisialisasi dan latih model Naïve Bayes\n",
        "model = MultinomialNB()\n",
        "model.fit(X_train, y_train)\n",
        "\n",
        "# Step 5: Evaluasi model\n",
        "y_pred = model.predict(X_test)\n",
        "accuracy = accuracy_score(y_test, y_pred)\n",
        "print(f\"Model Accuracy: {accuracy * 100:.2f}%\")\n",
        "\n",
        "# Step 6: Buat fungsi untuk rekomendasi\n",
        "def recommend_game(genre, platform, rating):\n",
        "    # Transformasi input menjadi format numerik yang sama\n",
        "    genre_encoded = label_encoders['Genre'].transform([genre])[0]\n",
        "    platform_encoded = label_encoders['Platform'].transform([platform])[0]\n",
        "    rating_encoded = label_encoders['Rating'].transform([rating])[0]\n",
        "\n",
        "    # Prediksi rekomendasi\n",
        "    prediction = model.predict([[genre_encoded, platform_encoded, rating_encoded]])\n",
        "    recommendation = label_encoders['Recommendation'].inverse_transform(prediction)\n",
        "\n",
        "    if recommendation[0] == 'Yes':\n",
        "        return \"Game ini direkomendasikan!\"\n",
        "    else:\n",
        "        return \"Game ini tidak direkomendasikan.\"\n",
        "\n",
        "# Step 7: Coba rekomendasi dengan contoh input\n",
        "genre_input = 'RPG'       # Contoh genre\n",
        "platform_input = 'PC'     # Contoh platform\n",
        "rating_input = 'High'     # Contoh rating\n",
        "\n",
        "print(\"Hasil rekomendasi:\")\n",
        "print(recommend_game(genre_input, platform_input, rating_input))"
      ]
    },
    {
      "cell_type": "code",
      "source": [
        "# Import library yang diperlukan\n",
        "import pandas as pd\n",
        "from sklearn.model_selection import train_test_split\n",
        "from sklearn.naive_bayes import GaussianNB\n",
        "from sklearn.preprocessing import LabelEncoder\n",
        "from sklearn.metrics import accuracy_score\n",
        "\n",
        "# Step 1: Baca dataset game\n",
        "# Pastikan untuk mengunggah file game.csv ke Google Colab sebelum menjalankan kode ini\n",
        "df = pd.read_csv('/content/Game_of_Thrones.csv')\n",
        "\n",
        "# Tampilkan beberapa baris dari data untuk memahami strukturnya\n",
        "df.head()\n",
        "\n",
        "# Step 2: Pilih kolom yang relevan untuk rekomendasi\n",
        "# Di sini kita menggunakan rating sebagai fitur utama\n",
        "df = df[['IMDb Rating', 'Rotten Tomatoes Rating (Percentage)', 'Metacritic Ratings']].dropna()\n",
        "\n",
        "# Buat kolom rekomendasi berdasarkan IMDb Rating (misalnya: rating > 7 direkomendasikan)\n",
        "df['Recommendation'] = df['IMDb Rating'].apply(lambda x: 'Yes' if x > 7 else 'No')\n",
        "\n",
        "# Encode kolom 'Recommendation' sebagai label biner\n",
        "label_encoder = LabelEncoder()\n",
        "df['Recommendation'] = label_encoder.fit_transform(df['Recommendation'])\n",
        "\n",
        "# Step 3: Pisahkan fitur dan target\n",
        "X = df[['IMDb Rating', 'Rotten Tomatoes Rating (Percentage)', 'Metacritic Ratings']]\n",
        "y = df['Recommendation']\n",
        "\n",
        "# Bagi data menjadi data latih dan data uji\n",
        "X_train, X_test, y_train, y_test = train_test_split(X, y, test_size=0.3, random_state=42)\n",
        "\n",
        "# Step 4: Inisialisasi dan latih model Naïve Bayes\n",
        "model = GaussianNB()\n",
        "model.fit(X_train, y_train)\n",
        "\n",
        "# Step 5: Evaluasi model\n",
        "y_pred = model.predict(X_test)\n",
        "accuracy = accuracy_score(y_test, y_pred)\n",
        "print(f\"Model Accuracy: {accuracy * 100:.2f}%\")\n",
        "\n",
        "# Step 6: Buat fungsi untuk rekomendasi\n",
        "def recommend_game(imdb_rating, rotten_tomatoes_rating, metacritic_rating):\n",
        "    # Prediksi rekomendasi\n",
        "    prediction = model.predict([[imdb_rating, rotten_tomatoes_rating, metacritic_rating]])\n",
        "    recommendation = label_encoder.inverse_transform(prediction)\n",
        "\n",
        "    if recommendation[0] == 'Yes':\n",
        "        return \"Game ini direkomendasikan!\"\n",
        "    else:\n",
        "        return \"Game ini tidak direkomendasikan.\"\n",
        "\n",
        "# Step 7: Coba rekomendasi dengan contoh input\n",
        "imdb_input = 8.5       # Contoh IMDb Rating\n",
        "rt_input = 90          # Contoh Rotten Tomatoes Rating\n",
        "mc_input = 8.0         # Contoh Metacritic Rating\n",
        "\n",
        "print(\"Hasil rekomendasi:\")\n",
        "print(recommend_game(imdb_input, rt_input, mc_input))"
      ],
      "metadata": {
        "colab": {
          "base_uri": "https://localhost:8080/"
        },
        "id": "fkk0zNDbqZBI",
        "outputId": "b1427c60-ac08-498f-921b-058de1a2d9fe"
      },
      "execution_count": 2,
      "outputs": [
        {
          "output_type": "stream",
          "name": "stdout",
          "text": [
            "Model Accuracy: 90.91%\n",
            "Hasil rekomendasi:\n",
            "Game ini direkomendasikan!\n"
          ]
        },
        {
          "output_type": "stream",
          "name": "stderr",
          "text": [
            "/usr/local/lib/python3.10/dist-packages/sklearn/base.py:493: UserWarning: X does not have valid feature names, but GaussianNB was fitted with feature names\n",
            "  warnings.warn(\n"
          ]
        }
      ]
    }
  ]
}