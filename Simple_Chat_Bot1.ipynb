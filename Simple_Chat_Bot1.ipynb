{
  "cells": [
    {
      "cell_type": "markdown",
      "metadata": {
        "id": "view-in-github",
        "colab_type": "text"
      },
      "source": [
        "<a href=\"https://colab.research.google.com/github/elangbijak4/Sistem-Cerdas/blob/main/Simple_Chat_Bot1.ipynb\" target=\"_parent\"><img src=\"https://colab.research.google.com/assets/colab-badge.svg\" alt=\"Open In Colab\"/></a>"
      ]
    },
    {
      "cell_type": "code",
      "execution_count": 1,
      "metadata": {
        "colab": {
          "base_uri": "https://localhost:8080/"
        },
        "id": "DnU0HLJGphoD",
        "outputId": "d8112cac-fb92-4dc2-e5ae-e2334e4a9052"
      },
      "outputs": [
        {
          "output_type": "stream",
          "name": "stdout",
          "text": [
            "Requirement already satisfied: nltk in /usr/local/lib/python3.10/dist-packages (3.9.1)\n",
            "Requirement already satisfied: click in /usr/local/lib/python3.10/dist-packages (from nltk) (8.1.7)\n",
            "Requirement already satisfied: joblib in /usr/local/lib/python3.10/dist-packages (from nltk) (1.4.2)\n",
            "Requirement already satisfied: regex>=2021.8.3 in /usr/local/lib/python3.10/dist-packages (from nltk) (2024.9.11)\n",
            "Requirement already satisfied: tqdm in /usr/local/lib/python3.10/dist-packages (from nltk) (4.66.6)\n"
          ]
        }
      ],
      "source": [
        "# Install NLTK library (opsional, jika belum terinstal)\n",
        "!pip install nltk"
      ]
    },
    {
      "cell_type": "code",
      "execution_count": 2,
      "metadata": {
        "id": "SNRZilDfpm7Z"
      },
      "outputs": [],
      "source": [
        "import nltk\n",
        "import random\n",
        "import string  # Untuk pemrosesan teks dasar"
      ]
    },
    {
      "cell_type": "code",
      "execution_count": 3,
      "metadata": {
        "colab": {
          "base_uri": "https://localhost:8080/"
        },
        "id": "LuMjhgTipsGk",
        "outputId": "9ab79f8e-5c02-45a9-de80-517efeff53f3"
      },
      "outputs": [
        {
          "output_type": "stream",
          "name": "stderr",
          "text": [
            "[nltk_data] Downloading package punkt_tab to /root/nltk_data...\n",
            "[nltk_data]   Unzipping tokenizers/punkt_tab.zip.\n",
            "[nltk_data] Downloading package punkt to /root/nltk_data...\n",
            "[nltk_data]   Unzipping tokenizers/punkt.zip.\n",
            "[nltk_data] Downloading package wordnet to /root/nltk_data...\n"
          ]
        },
        {
          "output_type": "execute_result",
          "data": {
            "text/plain": [
              "True"
            ]
          },
          "metadata": {},
          "execution_count": 3
        }
      ],
      "source": [
        "# Download the 'punkt_tab' data\n",
        "nltk.download('punkt_tab')\n",
        "\n",
        "# Download other data as before\n",
        "nltk.download('punkt')  # Tokenizer\n",
        "nltk.download('wordnet')  # Lemmatizer"
      ]
    },
    {
      "cell_type": "code",
      "execution_count": 4,
      "metadata": {
        "id": "mLbA5ifCqAGE"
      },
      "outputs": [],
      "source": [
        "# Dataset sederhana\n",
        "chatbot_data = \"\"\"\n",
        "Halo! Saya adalah chatbot AI sederhana. Bagaimana saya bisa membantu Anda hari ini?\n",
        "- Apa itu chatbot?\n",
        "  Chatbot adalah program komputer yang dirancang untuk mensimulasikan percakapan dengan manusia.\n",
        "- Apa itu AI?\n",
        "  AI adalah kecerdasan buatan yang memungkinkan komputer melakukan tugas yang biasanya membutuhkan kecerdasan manusia.\n",
        "- Siapa pembuatmu?\n",
        "  Saya dibuat oleh pengembang AI menggunakan Python dan NLTK.\n",
        "- Terima kasih\n",
        "  Sama-sama! Senang bisa membantu.\n",
        "\"\"\"\n",
        "\n",
        "# Tokenisasi kalimat\n",
        "sent_tokens = nltk.sent_tokenize(chatbot_data)  # Pisahkan menjadi kalimat\n",
        "word_tokens = nltk.word_tokenize(chatbot_data)  # Pisahkan menjadi kata"
      ]
    },
    {
      "cell_type": "code",
      "execution_count": 5,
      "metadata": {
        "id": "0yY0Y14EqGNQ"
      },
      "outputs": [],
      "source": [
        "from nltk.stem import WordNetLemmatizer\n",
        "\n",
        "lemmer = WordNetLemmatizer()\n",
        "\n",
        "# Fungsi untuk merapikan kata\n",
        "def LemTokens(tokens):\n",
        "    return [lemmer.lemmatize(token.lower()) for token in tokens if token not in string.punctuation]\n",
        "\n",
        "# Gabungkan token yang sudah diproses\n",
        "def LemNormalize(text):\n",
        "    return LemTokens(nltk.word_tokenize(text.lower()))"
      ]
    },
    {
      "cell_type": "code",
      "execution_count": 6,
      "metadata": {
        "id": "iF_dqJtDqIQG"
      },
      "outputs": [],
      "source": [
        "from sklearn.feature_extraction.text import TfidfVectorizer\n",
        "from sklearn.metrics.pairwise import cosine_similarity\n",
        "\n",
        "def response(user_response):\n",
        "    robo_response = ''\n",
        "    sent_tokens.append(user_response)  # Tambahkan input user ke token\n",
        "    TfidfVec = TfidfVectorizer(tokenizer=LemNormalize, stop_words='english')\n",
        "    tfidf = TfidfVec.fit_transform(sent_tokens)  # TF-IDF Matrix\n",
        "    vals = cosine_similarity(tfidf[-1], tfidf)  # Hitung kesamaan\n",
        "    idx = vals.argsort()[0][-2]  # Cari jawaban terbaik\n",
        "    flat = vals.flatten()\n",
        "    flat.sort()\n",
        "    req_tfidf = flat[-2]\n",
        "\n",
        "    if req_tfidf == 0:  # Jika tidak ditemukan kesamaan\n",
        "        robo_response = \"Maaf, saya tidak mengerti.\"\n",
        "    else:\n",
        "        robo_response = sent_tokens[idx]\n",
        "\n",
        "    sent_tokens.pop()  # Hapus input user setelah diproses\n",
        "    return robo_response"
      ]
    },
    {
      "cell_type": "code",
      "execution_count": null,
      "metadata": {
        "colab": {
          "background_save": true,
          "base_uri": "https://localhost:8080/"
        },
        "id": "NcrtVOxrqMqf",
        "outputId": "674c2a01-5bae-4b90-d959-05056202b455"
      },
      "outputs": [
        {
          "output_type": "stream",
          "name": "stdout",
          "text": [
            "Chatbot: Halo! Ketik 'keluar' untuk mengakhiri percakapan.\n"
          ]
        }
      ],
      "source": [
        "flag = True\n",
        "print(\"Chatbot: Halo! Ketik 'keluar' untuk mengakhiri percakapan.\")\n",
        "\n",
        "while flag:\n",
        "    user_response = input(\"Anda: \")\n",
        "    user_response = user_response.lower()\n",
        "    if user_response != 'keluar':\n",
        "        if user_response in ['terima kasih', 'thanks']:\n",
        "            print(\"Chatbot: Sama-sama! Senang bisa membantu.\")\n",
        "        else:\n",
        "            print(\"Chatbot:\", response(user_response))\n",
        "    else:\n",
        "        flag = False\n",
        "        print(\"Chatbot: Sampai jumpa! Terima kasih telah menggunakan layanan saya.\")\n"
      ]
    }
  ],
  "metadata": {
    "colab": {
      "provenance": [],
      "authorship_tag": "ABX9TyP3drClq5Z2fINJhHR/HtYP",
      "include_colab_link": true
    },
    "kernelspec": {
      "display_name": "Python 3",
      "name": "python3"
    },
    "language_info": {
      "name": "python"
    }
  },
  "nbformat": 4,
  "nbformat_minor": 0
}